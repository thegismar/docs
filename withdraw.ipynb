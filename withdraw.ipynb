{
  "nbformat": 4,
  "nbformat_minor": 0,
  "metadata": {
    "colab": {
      "name": "Untitled2.ipynb",
      "provenance": [],
      "authorship_tag": "ABX9TyMHjg5OvsDUYi8QUq5quH4w",
      "include_colab_link": true
    },
    "kernelspec": {
      "name": "python3",
      "display_name": "Python 3"
    }
  },
  "cells": [
    {
      "cell_type": "markdown",
      "metadata": {
        "id": "view-in-github",
        "colab_type": "text"
      },
      "source": [
        "<a href=\"https://colab.research.google.com/github/thegismar/docs/blob/master/withdraw.ipynb\" target=\"_parent\"><img src=\"https://colab.research.google.com/assets/colab-badge.svg\" alt=\"Open In Colab\"/></a>"
      ]
    },
    {
      "cell_type": "code",
      "metadata": {
        "id": "5MRLgfoAH0Ss",
        "colab_type": "code",
        "colab": {}
      },
      "source": [
        ""
      ],
      "execution_count": null,
      "outputs": []
    },
    {
      "cell_type": "markdown",
      "metadata": {
        "id": "-cFtOfAoH1D_",
        "colab_type": "text"
      },
      "source": [
        "So, if user withdraws he **should** get $yTokens * sharePrice$ in tokens. That would mean the vault balance would be reduced in exactly that amount, so $ balanceAfter = balanceBefore - (yTokens * sharePrice) $\n",
        "\n",
        "\n",
        "Now, if there was a fee, we can only check the new balanceAfter, which should be MORE than the previous calculation $balanceAfter = balanceBefore - (yTokens * sharePrice) - fee $\n",
        "\n",
        "So to get the $fee = balanceAfter - balanceBefore - (yTokens * sharePrice) $\n",
        "\n",
        "\n",
        "\n",
        "Which would mean on each withdraw, check the balanceAfter (or the one that is , balancebefore, and (ytokens* shareprice)\n",
        "\n",
        "\n"
      ]
    }
  ]
}